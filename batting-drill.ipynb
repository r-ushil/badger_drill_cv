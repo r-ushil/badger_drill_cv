{
 "cells": [
  {
   "cell_type": "markdown",
   "id": "7681a133",
   "metadata": {},
   "source": [
    "# Batting Drill - Forward Drive"
   ]
  },
  {
   "cell_type": "markdown",
   "id": "2554c763",
   "metadata": {},
   "source": [
    "## Install and Import Dependencies"
   ]
  },
  {
   "cell_type": "code",
   "execution_count": 5,
   "id": "7ea44349",
   "metadata": {},
   "outputs": [],
   "source": [
    "import cv2\n",
    "import mediapipe as mp\n",
    "import numpy as np\n",
    "\n",
    "mp_drawing = mp.solutions.drawing_utils\n",
    "mp_pose = mp.solutions.pose"
   ]
  },
  {
   "cell_type": "markdown",
   "id": "d61811ff",
   "metadata": {},
   "source": [
    " ## Set up MediaPipe and OpenCV"
   ]
  },
  {
   "cell_type": "code",
   "execution_count": 6,
   "id": "b8cf84aa",
   "metadata": {},
   "outputs": [],
   "source": [
    "# setup pose estimation with min confidence for person detection / tracking\n",
    "pose = mp_pose.Pose(static_image_mode=False, min_detection_confidence=0.5, \n",
    "                    min_tracking_confidence=0.5, model_complexity=2)\n",
    "\n",
    "#video = sys.argv[1]\n",
    "video = \"videos/bouldering.mp4\"\n",
    "\n",
    "cap = cv2.VideoCapture(video)\n",
    "\n",
    "if cap.isOpened() == False:\n",
    "    print(\"Error opening video file\")\n",
    "    raise TypeError\n",
    "\n",
    "frame_width = int(cap.get(3))\n",
    "frame_height = int(cap.get(4))\n",
    "\n",
    "# setup output video \n",
    "outdir, filename = video[:video.rfind('/')+1], video[video.rfind('/')+1:]\n",
    "\n",
    "name, ext = filename.split('.')\n",
    "\n",
    "out_filename = f'{outdir}{name}_annotated.{ext}'\n",
    "\n",
    "out = cv2.VideoWriter(out_filename, cv2.VideoWriter_fourcc(\n",
    "    'm', 'p', '4', 'v'), 30, (frame_width, frame_height))\n",
    "\n"
   ]
  },
  {
   "cell_type": "markdown",
   "id": "a58f08ca",
   "metadata": {},
   "source": [
    "## Apply Pose Detection on File"
   ]
  },
  {
   "cell_type": "code",
   "execution_count": null,
   "id": "11b2ab07",
   "metadata": {},
   "outputs": [],
   "source": [
    "# process per frame\n",
    "while cap.isOpened():\n",
    "    ret, image = cap.read()\n",
    "    if not ret:\n",
    "        break\n",
    "\n",
    "    # convert colour format from BGR to RBG\n",
    "    image = cv2.cvtColor(cv2.flip(image, 1), cv2.COLOR_BGR2RGB)\n",
    "    image.flags.writeable = False\n",
    "    \n",
    "    # run pose estimation on frame\n",
    "    results = pose.process(image)\n",
    "\n",
    "    # convert colour format back to BGR\n",
    "    image.flags.writeable = True\n",
    "    image = cv2.cvtColor(image, cv2.COLOR_RGB2BGR)\n",
    "    \n",
    "    # write pose landmarks from results onto frame\n",
    "    mp_drawing.draw_landmarks(\n",
    "        image, results.pose_landmarks, mp_pose.POSE_CONNECTIONS)\n",
    "    \n",
    "    image = cv2.flip(image, 0)\n",
    "    out.write(image)\n",
    "    \n",
    "\n",
    "pose.close()\n",
    "cap.release()\n",
    "out.release()"
   ]
  },
  {
   "cell_type": "markdown",
   "id": "488664fa",
   "metadata": {},
   "source": [
    "### TODO: Fix video display in notebook. Saves just fine on the local filesystem."
   ]
  },
  {
   "cell_type": "code",
   "execution_count": null,
   "id": "abe13850",
   "metadata": {},
   "outputs": [],
   "source": []
  }
 ],
 "metadata": {
  "kernelspec": {
   "display_name": "Python 3 (ipykernel)",
   "language": "python",
   "name": "python3"
  },
  "language_info": {
   "codemirror_mode": {
    "name": "ipython",
    "version": 3
   },
   "file_extension": ".py",
   "mimetype": "text/x-python",
   "name": "python",
   "nbconvert_exporter": "python",
   "pygments_lexer": "ipython3",
   "version": "3.10.8"
  },
  "vscode": {
   "interpreter": {
    "hash": "e7370f93d1d0cde622a1f8e1c04877d8463912d04d973331ad4851f04de6915a"
   }
  }
 },
 "nbformat": 4,
 "nbformat_minor": 5
}
